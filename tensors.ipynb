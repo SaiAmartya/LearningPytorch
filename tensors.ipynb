{
  "nbformat": 4,
  "nbformat_minor": 0,
  "metadata": {
    "colab": {
      "provenance": [],
      "gpuType": "T4",
      "authorship_tag": "ABX9TyOaynxzT015yqZKrpfUNLnD",
      "include_colab_link": true
    },
    "kernelspec": {
      "name": "python3",
      "display_name": "Python 3"
    },
    "language_info": {
      "name": "python"
    },
    "accelerator": "GPU"
  },
  "cells": [
    {
      "cell_type": "markdown",
      "metadata": {
        "id": "view-in-github",
        "colab_type": "text"
      },
      "source": [
        "<a href=\"https://colab.research.google.com/github/SaiAmartya/LearningPytorch/blob/main/tensors.ipynb\" target=\"_parent\"><img src=\"https://colab.research.google.com/assets/colab-badge.svg\" alt=\"Open In Colab\"/></a>"
      ]
    },
    {
      "cell_type": "markdown",
      "source": [
        "### The purpose of this program is to further explore and learn about **tensors**"
      ],
      "metadata": {
        "id": "D4dLEqsbjFGZ"
      }
    },
    {
      "cell_type": "code",
      "execution_count": 1,
      "metadata": {
        "id": "DmJKM2waf8nW"
      },
      "outputs": [],
      "source": [
        "import torch"
      ]
    },
    {
      "cell_type": "code",
      "source": [
        "my_torch = torch.arange(10)\n",
        "my_torch"
      ],
      "metadata": {
        "colab": {
          "base_uri": "https://localhost:8080/"
        },
        "id": "gqDk3XTlgJRA",
        "outputId": "0dd7830a-db40-411b-93b1-aa2df241c102"
      },
      "execution_count": 2,
      "outputs": [
        {
          "output_type": "execute_result",
          "data": {
            "text/plain": [
              "tensor([0, 1, 2, 3, 4, 5, 6, 7, 8, 9])"
            ]
          },
          "metadata": {},
          "execution_count": 2
        }
      ]
    },
    {
      "cell_type": "code",
      "source": [
        "# Reshape and View\n",
        "my_torch = my_torch.reshape(2,5)\n",
        "my_torch"
      ],
      "metadata": {
        "colab": {
          "base_uri": "https://localhost:8080/"
        },
        "id": "8CwWYMz-gfXw",
        "outputId": "0cdcb4a4-b296-4645-dccd-b15d9ebc0ce8"
      },
      "execution_count": 4,
      "outputs": [
        {
          "output_type": "execute_result",
          "data": {
            "text/plain": [
              "tensor([[0, 1, 2, 3, 4],\n",
              "        [5, 6, 7, 8, 9]])"
            ]
          },
          "metadata": {},
          "execution_count": 4
        }
      ]
    },
    {
      "cell_type": "code",
      "source": [
        "# Reshape if we don't know the number of items, using -1\n",
        "my_torch2 = torch.arange(10)\n",
        "my_torch2 = my_torch2.reshape(-1,5)\n",
        "my_torch2"
      ],
      "metadata": {
        "colab": {
          "base_uri": "https://localhost:8080/"
        },
        "id": "xmhKH0XUhFwk",
        "outputId": "6941df27-bfb0-4f35-e69b-5207ec6f0e9f"
      },
      "execution_count": 14,
      "outputs": [
        {
          "output_type": "execute_result",
          "data": {
            "text/plain": [
              "tensor([[0, 1, 2, 3, 4],\n",
              "        [5, 6, 7, 8, 9]])"
            ]
          },
          "metadata": {},
          "execution_count": 14
        }
      ]
    },
    {
      "cell_type": "code",
      "source": [
        "# Using View\n",
        "my_torch3 = torch.arange(10)\n",
        "my_torch3 = my_torch3.view(2,5)\n",
        "my_torch3"
      ],
      "metadata": {
        "colab": {
          "base_uri": "https://localhost:8080/"
        },
        "id": "wqq98_j7h54M",
        "outputId": "aff94d2f-0774-466e-a42c-f509a6d03bd7"
      },
      "execution_count": 15,
      "outputs": [
        {
          "output_type": "execute_result",
          "data": {
            "text/plain": [
              "tensor([[0, 1, 2, 3, 4],\n",
              "        [5, 6, 7, 8, 9]])"
            ]
          },
          "metadata": {},
          "execution_count": 15
        }
      ]
    },
    {
      "cell_type": "code",
      "source": [
        "# with reshape and view, they will update\n",
        "my_torch5 = torch.arange(10)\n",
        "my_torch6 = my_torch5.reshape(2,5)\n",
        "print(my_torch6)\n",
        "my_torch5[1] = 4141\n",
        "print(my_torch5)\n",
        "print(my_torch6) # Reshaped torch updated automatically"
      ],
      "metadata": {
        "colab": {
          "base_uri": "https://localhost:8080/"
        },
        "id": "vvyYSNCUkeaD",
        "outputId": "e031a5c3-8095-4351-e9e0-6602ccb3ac36"
      },
      "execution_count": 17,
      "outputs": [
        {
          "output_type": "stream",
          "name": "stdout",
          "text": [
            "tensor([[0, 1, 2, 3, 4],\n",
            "        [5, 6, 7, 8, 9]])\n",
            "tensor([   0, 4141,    2,    3,    4,    5,    6,    7,    8,    9])\n",
            "tensor([[   0, 4141,    2,    3,    4],\n",
            "        [   5,    6,    7,    8,    9]])\n"
          ]
        }
      ]
    },
    {
      "cell_type": "code",
      "source": [
        "# Slices\n",
        "my_torch7 = torch.arange(10)\n",
        "\n",
        "# Grab a specific item\n",
        "print(my_torch7[7]) # Different than just the number 7\n",
        "\n",
        "my_torch8 = my_torch7.reshape(-1,2)\n",
        "print(my_torch8)\n",
        "print(my_torch8[:,1]) # The second item in each row (second column)\n",
        "\n",
        "# Return column with same structure\n",
        "print(my_torch8[:,1:]) # All rows, second column"
      ],
      "metadata": {
        "colab": {
          "base_uri": "https://localhost:8080/"
        },
        "id": "hQAlGWaylE4c",
        "outputId": "c1e1e6ba-28ec-40d8-80c8-87a0f31d6273"
      },
      "execution_count": 22,
      "outputs": [
        {
          "output_type": "stream",
          "name": "stdout",
          "text": [
            "tensor(7)\n",
            "tensor([[0, 1],\n",
            "        [2, 3],\n",
            "        [4, 5],\n",
            "        [6, 7],\n",
            "        [8, 9]])\n",
            "tensor([1, 3, 5, 7, 9])\n",
            "tensor([[1],\n",
            "        [3],\n",
            "        [5],\n",
            "        [7],\n",
            "        [9]])\n"
          ]
        }
      ]
    }
  ]
}