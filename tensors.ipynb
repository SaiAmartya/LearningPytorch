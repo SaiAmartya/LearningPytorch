{
  "nbformat": 4,
  "nbformat_minor": 0,
  "metadata": {
    "colab": {
      "provenance": [],
      "gpuType": "T4",
      "authorship_tag": "ABX9TyMi5tjH3U2RSwpFbzEBHZOm",
      "include_colab_link": true
    },
    "kernelspec": {
      "name": "python3",
      "display_name": "Python 3"
    },
    "language_info": {
      "name": "python"
    },
    "accelerator": "GPU"
  },
  "cells": [
    {
      "cell_type": "markdown",
      "metadata": {
        "id": "view-in-github",
        "colab_type": "text"
      },
      "source": [
        "<a href=\"https://colab.research.google.com/github/SaiAmartya/LearningPytorch/blob/main/tensors.ipynb\" target=\"_parent\"><img src=\"https://colab.research.google.com/assets/colab-badge.svg\" alt=\"Open In Colab\"/></a>"
      ]
    },
    {
      "cell_type": "markdown",
      "source": [
        "### The purpose of this program is to further explore and learn about Pytorch **tensors**"
      ],
      "metadata": {
        "id": "D4dLEqsbjFGZ"
      }
    },
    {
      "cell_type": "code",
      "execution_count": 72,
      "metadata": {
        "id": "DmJKM2waf8nW"
      },
      "outputs": [],
      "source": [
        "import torch\n",
        "import numpy as np"
      ]
    },
    {
      "cell_type": "code",
      "source": [
        "my_torch = torch.arange(10)\n",
        "my_torch"
      ],
      "metadata": {
        "colab": {
          "base_uri": "https://localhost:8080/"
        },
        "id": "gqDk3XTlgJRA",
        "outputId": "4a3629b7-f949-4cf8-e4a3-690d7b5e01ab"
      },
      "execution_count": 73,
      "outputs": [
        {
          "output_type": "execute_result",
          "data": {
            "text/plain": [
              "tensor([0, 1, 2, 3, 4, 5, 6, 7, 8, 9])"
            ]
          },
          "metadata": {},
          "execution_count": 73
        }
      ]
    },
    {
      "cell_type": "code",
      "source": [
        "# Reshape and View\n",
        "my_torch = my_torch.reshape(2,5)\n",
        "my_torch"
      ],
      "metadata": {
        "colab": {
          "base_uri": "https://localhost:8080/"
        },
        "id": "8CwWYMz-gfXw",
        "outputId": "647ba587-7158-40ea-d3e0-60149fcffb94"
      },
      "execution_count": 74,
      "outputs": [
        {
          "output_type": "execute_result",
          "data": {
            "text/plain": [
              "tensor([[0, 1, 2, 3, 4],\n",
              "        [5, 6, 7, 8, 9]])"
            ]
          },
          "metadata": {},
          "execution_count": 74
        }
      ]
    },
    {
      "cell_type": "code",
      "source": [
        "# Reshape if we don't know the number of items, using -1\n",
        "my_torch2 = torch.arange(10)\n",
        "my_torch2 = my_torch2.reshape(-1,5)\n",
        "my_torch2"
      ],
      "metadata": {
        "colab": {
          "base_uri": "https://localhost:8080/"
        },
        "id": "xmhKH0XUhFwk",
        "outputId": "891ce174-3c45-4b66-f015-5746e370bbbd"
      },
      "execution_count": 75,
      "outputs": [
        {
          "output_type": "execute_result",
          "data": {
            "text/plain": [
              "tensor([[0, 1, 2, 3, 4],\n",
              "        [5, 6, 7, 8, 9]])"
            ]
          },
          "metadata": {},
          "execution_count": 75
        }
      ]
    },
    {
      "cell_type": "code",
      "source": [
        "# Using View\n",
        "my_torch3 = torch.arange(10)\n",
        "my_torch3 = my_torch3.view(2,5)\n",
        "my_torch3"
      ],
      "metadata": {
        "colab": {
          "base_uri": "https://localhost:8080/"
        },
        "id": "wqq98_j7h54M",
        "outputId": "cdcb0ef5-46d9-4411-8e04-57fcb0beeba1"
      },
      "execution_count": 76,
      "outputs": [
        {
          "output_type": "execute_result",
          "data": {
            "text/plain": [
              "tensor([[0, 1, 2, 3, 4],\n",
              "        [5, 6, 7, 8, 9]])"
            ]
          },
          "metadata": {},
          "execution_count": 76
        }
      ]
    },
    {
      "cell_type": "code",
      "source": [
        "# with reshape and view, they will update\n",
        "my_torch5 = torch.arange(10)\n",
        "my_torch6 = my_torch5.reshape(2,5)\n",
        "print(my_torch6)\n",
        "my_torch5[1] = 4141\n",
        "print(my_torch5)\n",
        "print(my_torch6) # Reshaped torch updated automatically"
      ],
      "metadata": {
        "colab": {
          "base_uri": "https://localhost:8080/"
        },
        "id": "vvyYSNCUkeaD",
        "outputId": "b0401f20-cd1f-4bce-927d-ba5862135f1e"
      },
      "execution_count": 77,
      "outputs": [
        {
          "output_type": "stream",
          "name": "stdout",
          "text": [
            "tensor([[0, 1, 2, 3, 4],\n",
            "        [5, 6, 7, 8, 9]])\n",
            "tensor([   0, 4141,    2,    3,    4,    5,    6,    7,    8,    9])\n",
            "tensor([[   0, 4141,    2,    3,    4],\n",
            "        [   5,    6,    7,    8,    9]])\n"
          ]
        }
      ]
    },
    {
      "cell_type": "code",
      "source": [
        "# Slices\n",
        "my_torch7 = torch.arange(10)\n",
        "\n",
        "# Grab a specific item\n",
        "print(my_torch7[7]) # Different than just the number 7\n",
        "\n",
        "my_torch8 = my_torch7.reshape(-1,2)\n",
        "print(my_torch8)\n",
        "print(my_torch8[:,1]) # The second item in each row (second column)\n",
        "\n",
        "# Return column with same structure\n",
        "print(my_torch8[:,1:]) # All rows, second column"
      ],
      "metadata": {
        "colab": {
          "base_uri": "https://localhost:8080/"
        },
        "id": "hQAlGWaylE4c",
        "outputId": "a121c24c-538e-4aea-d6f9-1616dd46ad2c"
      },
      "execution_count": 78,
      "outputs": [
        {
          "output_type": "stream",
          "name": "stdout",
          "text": [
            "tensor(7)\n",
            "tensor([[0, 1],\n",
            "        [2, 3],\n",
            "        [4, 5],\n",
            "        [6, 7],\n",
            "        [8, 9]])\n",
            "tensor([1, 3, 5, 7, 9])\n",
            "tensor([[1],\n",
            "        [3],\n",
            "        [5],\n",
            "        [7],\n",
            "        [9]])\n"
          ]
        }
      ]
    },
    {
      "cell_type": "markdown",
      "source": [
        "**TENSOR MATH OPERATIONS**\n",
        "- Add, subtract, Multiply, Divide, Remainders Exponents\n",
        "- Shorthand and Longhand\n",
        "- Reassignment"
      ],
      "metadata": {
        "id": "b9eIv9zGmx-z"
      }
    },
    {
      "cell_type": "code",
      "source": [
        "tensor_a = torch.arange(1,5)\n",
        "tensor_b = torch.arange(5,9)"
      ],
      "metadata": {
        "id": "wj-USJ01nIZb"
      },
      "execution_count": 79,
      "outputs": []
    },
    {
      "cell_type": "code",
      "source": [
        "# Addition, Add both of the same indexes\n",
        "print(tensor_a + tensor_b)\n",
        "print(torch.add(tensor_a,tensor_b)) # add method"
      ],
      "metadata": {
        "colab": {
          "base_uri": "https://localhost:8080/"
        },
        "id": "MUvFJ8lonZhu",
        "outputId": "6721297c-1bea-49da-8d89-54bb566b9dd4"
      },
      "execution_count": 80,
      "outputs": [
        {
          "output_type": "stream",
          "name": "stdout",
          "text": [
            "tensor([ 6,  8, 10, 12])\n",
            "tensor([ 6,  8, 10, 12])\n"
          ]
        }
      ]
    },
    {
      "cell_type": "code",
      "source": [
        "# Subtraction\n",
        "print(tensor_b - tensor_a)\n",
        "print(torch.sub(tensor_b, tensor_a)) # sub method"
      ],
      "metadata": {
        "colab": {
          "base_uri": "https://localhost:8080/"
        },
        "id": "9Z7V2N2AnzEH",
        "outputId": "80f2930d-e861-47e5-952a-59c015580693"
      },
      "execution_count": 81,
      "outputs": [
        {
          "output_type": "stream",
          "name": "stdout",
          "text": [
            "tensor([4, 4, 4, 4])\n",
            "tensor([4, 4, 4, 4])\n"
          ]
        }
      ]
    },
    {
      "cell_type": "code",
      "source": [
        "# Multiplication\n",
        "print(tensor_a * tensor_b)\n",
        "torch.mul(tensor_a, tensor_b) # mul longhand"
      ],
      "metadata": {
        "colab": {
          "base_uri": "https://localhost:8080/"
        },
        "id": "ML0tOGqpoXRZ",
        "outputId": "f2745182-7a32-4663-b7ac-54e37b846d37"
      },
      "execution_count": 82,
      "outputs": [
        {
          "output_type": "stream",
          "name": "stdout",
          "text": [
            "tensor([ 5, 12, 21, 32])\n"
          ]
        },
        {
          "output_type": "execute_result",
          "data": {
            "text/plain": [
              "tensor([ 5, 12, 21, 32])"
            ]
          },
          "metadata": {},
          "execution_count": 82
        }
      ]
    },
    {
      "cell_type": "code",
      "source": [
        "# Division\n",
        "print(tensor_b / tensor_a)\n",
        "print(torch.div(tensor_b, tensor_a)) # div longhand"
      ],
      "metadata": {
        "colab": {
          "base_uri": "https://localhost:8080/"
        },
        "id": "-ERJ5Hhcongk",
        "outputId": "a72001f5-3e0b-4b1a-eb27-8999ad4609ee"
      },
      "execution_count": 83,
      "outputs": [
        {
          "output_type": "stream",
          "name": "stdout",
          "text": [
            "tensor([5.0000, 3.0000, 2.3333, 2.0000])\n",
            "tensor([5.0000, 3.0000, 2.3333, 2.0000])\n"
          ]
        }
      ]
    },
    {
      "cell_type": "code",
      "source": [
        "# Remainder Modulus\n",
        "print(tensor_b % tensor_a)\n",
        "print(torch.remainder(tensor_b, tensor_a)) # remainder longhand"
      ],
      "metadata": {
        "colab": {
          "base_uri": "https://localhost:8080/"
        },
        "id": "jTClgzmjo4q-",
        "outputId": "02af5a7e-aaf8-4883-806f-9f4e9de4ab4b"
      },
      "execution_count": 84,
      "outputs": [
        {
          "output_type": "stream",
          "name": "stdout",
          "text": [
            "tensor([0, 0, 1, 0])\n",
            "tensor([0, 0, 1, 0])\n"
          ]
        }
      ]
    },
    {
      "cell_type": "code",
      "source": [
        "# Exponents\n",
        "print(tensor_b ** tensor_a) # b^a\n",
        "print(torch.pow(tensor_b, tensor_a)) # pow longhand"
      ],
      "metadata": {
        "colab": {
          "base_uri": "https://localhost:8080/"
        },
        "id": "PyZIoR9WpLDN",
        "outputId": "6821bb7b-a70e-41b1-f637-4c540d823baf"
      },
      "execution_count": 85,
      "outputs": [
        {
          "output_type": "stream",
          "name": "stdout",
          "text": [
            "tensor([   5,   36,  343, 4096])\n",
            "tensor([   5,   36,  343, 4096])\n"
          ]
        }
      ]
    },
    {
      "cell_type": "code",
      "source": [
        "# Another way to write longhand\n",
        "print(tensor_a.add(tensor_b))\n",
        "print(tensor_a.mul(tensor_b))\n",
        "print(tensor_a.sub(tensor_b))\n",
        "print(tensor_a.div(tensor_b))"
      ],
      "metadata": {
        "colab": {
          "base_uri": "https://localhost:8080/"
        },
        "id": "7f1pqf6appRR",
        "outputId": "a0c137d4-e446-4d36-eab3-e0cc37fedc28"
      },
      "execution_count": 86,
      "outputs": [
        {
          "output_type": "stream",
          "name": "stdout",
          "text": [
            "tensor([ 6,  8, 10, 12])\n",
            "tensor([ 5, 12, 21, 32])\n",
            "tensor([-4, -4, -4, -4])\n",
            "tensor([0.2000, 0.3333, 0.4286, 0.5000])\n"
          ]
        }
      ]
    },
    {
      "cell_type": "code",
      "source": [
        "# Reassignment\n",
        "tensor_a += tensor_b\n",
        "print(tensor_a)\n",
        "tensor_a.add_(tensor_b) # Reassign longhand\n",
        "print(tensor_a)"
      ],
      "metadata": {
        "colab": {
          "base_uri": "https://localhost:8080/"
        },
        "id": "j4Hv-jziqAzT",
        "outputId": "d4bae107-c36f-4981-d15c-e9c3592016ab"
      },
      "execution_count": 87,
      "outputs": [
        {
          "output_type": "stream",
          "name": "stdout",
          "text": [
            "tensor([ 6,  8, 10, 12])\n",
            "tensor([11, 14, 17, 20])\n"
          ]
        }
      ]
    }
  ]
}